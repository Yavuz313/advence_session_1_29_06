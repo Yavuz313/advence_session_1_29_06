{
 "cells": [
  {
   "cell_type": "markdown",
   "metadata": {},
   "source": [
    "# LOOPS (Donguler)"
   ]
  },
  {
   "cell_type": "markdown",
   "metadata": {},
   "source": [
    "## while"
   ]
  },
  {
   "cell_type": "code",
   "execution_count": 1,
   "metadata": {},
   "outputs": [],
   "source": [
    "# Dongu icindeki sart dogru olana kadar devam eder"
   ]
  },
  {
   "cell_type": "code",
   "execution_count": null,
   "metadata": {},
   "outputs": [],
   "source": [
    "# while 10 > 4:\n",
    "#     print(\"Bu dongu sonsuza gider\")\n",
    "# en son koda gider tekrar basa gider"
   ]
  },
  {
   "cell_type": "code",
   "execution_count": 3,
   "metadata": {},
   "outputs": [
    {
     "name": "stdout",
     "output_type": "stream",
     "text": [
      "Bu dongu kosul saglandikca calisir 4\n",
      "Bu dongu kosul saglandikca calisir 5\n",
      "Bu dongu kosul saglandikca calisir 6\n",
      "Bu dongu kosul saglandikca calisir 7\n",
      "Bu dongu kosul saglandikca calisir 8\n",
      "Bu dongu kosul saglandikca calisir 9\n"
     ]
    }
   ],
   "source": [
    "x = 4\n",
    "\n",
    "while 10 > x :\n",
    "    print(f\"Bu dongu kosul saglandikca calisir {x}\")\n",
    "    x = x + 1\n",
    "    "
   ]
  },
  {
   "cell_type": "code",
   "execution_count": 5,
   "metadata": {},
   "outputs": [
    {
     "name": "stdout",
     "output_type": "stream",
     "text": [
      "Dongu boyle ilerler 1\n",
      "Dongu boyle ilerler 2\n",
      "Dongu boyle ilerler 3\n",
      "Dongu boyle ilerler 4\n",
      "Dongu boyle ilerler 5\n",
      "Dongu boyle ilerler 6\n",
      "Dongu boyle ilerler 7\n",
      "Dongu boyle ilerler 8\n",
      "Dongu boyle ilerler 9\n"
     ]
    }
   ],
   "source": [
    "x = 1\n",
    "\n",
    "while x < 10 :\n",
    "    print(f\"Dongu boyle ilerler {x}\")\n",
    "    x +=1       #  x = x+1 ile  x += 1 aynidir"
   ]
  },
  {
   "cell_type": "code",
   "execution_count": 6,
   "metadata": {},
   "outputs": [
    {
     "name": "stdout",
     "output_type": "stream",
     "text": [
      "Dongu boyle ilerler 2\n",
      "Dongu boyle ilerler 3\n",
      "Dongu boyle ilerler 4\n",
      "Dongu boyle ilerler 5\n",
      "Dongu boyle ilerler 6\n",
      "Dongu boyle ilerler 7\n",
      "Dongu boyle ilerler 8\n",
      "Dongu boyle ilerler 9\n",
      "Dongu boyle ilerler 10\n"
     ]
    }
   ],
   "source": [
    "x = 1\n",
    "\n",
    "while x < 10 :\n",
    "    x +=1\n",
    "    print(f\"Dongu boyle ilerler {x}\")   "
   ]
  },
  {
   "cell_type": "code",
   "execution_count": 7,
   "metadata": {},
   "outputs": [],
   "source": [
    "while False: # while in icine girmesi icin kosulun true olmasi lazim \n",
    "    print(\"Cikti vermez\")"
   ]
  },
  {
   "cell_type": "code",
   "execution_count": 8,
   "metadata": {},
   "outputs": [],
   "source": [
    "while \"\": # while in icine girmesi icin kosulun true olmasi lazim \n",
    "    print(\"Cikti vermez\")"
   ]
  },
  {
   "cell_type": "code",
   "execution_count": 9,
   "metadata": {},
   "outputs": [
    {
     "name": "stdout",
     "output_type": "stream",
     "text": [
      " while dongusu condition False olana kadar devam eder\n"
     ]
    }
   ],
   "source": [
    "y = True\n",
    "\n",
    "while y:\n",
    "    print(\" while dongusu condition False olana kadar devam eder\")\n",
    "    y = False"
   ]
  },
  {
   "cell_type": "code",
   "execution_count": 11,
   "metadata": {},
   "outputs": [
    {
     "name": "stdout",
     "output_type": "stream",
     "text": [
      "deneme1\n",
      "deneme2\n",
      "deneme3\n"
     ]
    }
   ],
   "source": [
    "x = 1\n",
    "\n",
    "while x <= 3:\n",
    "    print(f\"deneme{x}\")\n",
    "    x += 1"
   ]
  },
  {
   "cell_type": "code",
   "execution_count": 14,
   "metadata": {},
   "outputs": [
    {
     "name": "stdout",
     "output_type": "stream",
     "text": [
      "1 in karesi 1\n",
      "2 in karesi 4\n",
      "3 in karesi 9\n",
      "4 in karesi 16\n"
     ]
    }
   ],
   "source": [
    "x = 1\n",
    "\n",
    "while x < 5:\n",
    "   print(f\"{x} in karesi {x**2}\")\n",
    "   x += 1"
   ]
  },
  {
   "cell_type": "code",
   "execution_count": 27,
   "metadata": {},
   "outputs": [
    {
     "name": "stdout",
     "output_type": "stream",
     "text": [
      "Girdiginiz sayi:53. Tahmini arttir \n",
      "Girdiginiz sayi:64. Tahmini arttir \n",
      "Girdiginiz sayi:75. Tahmini azalt \n",
      "Girdiginiz sayi:75. Tahmini azalt \n",
      "Girdiginiz sayi:54. Tahmini arttir \n",
      "Tekrar deneyiniz\n"
     ]
    }
   ],
   "source": [
    "y = True\n",
    "sayac = 0\n",
    "aklimdaki_sayi = 68\n",
    "\n",
    "while y:\n",
    "    tahmin = int(input(\"1 ile 100 arasinda sayi tuttum tahmin et:\"))\n",
    "    sayac += 1\n",
    "    \n",
    "    if aklimdaki_sayi < tahmin:\n",
    "        print(f\"Girdiginiz sayi:{tahmin}. Tahmini azalt \")\n",
    "    elif aklimdaki_sayi > tahmin:\n",
    "        print(f\"Girdiginiz sayi:{tahmin}. Tahmini arttir \")\n",
    "    else:\n",
    "        print(f\"Girdiginiz sayi:{tahmin}. {sayac} kerede Dogru bildiniz. \\nTebrikler...\")\n",
    "        break  # y = False  yazarsak aynisi olut\n",
    "\n",
    "    if sayac == 5:\n",
    "        print(\"Tekrar deneyiniz\")\n",
    "        y = False\n",
    "        \n"
   ]
  },
  {
   "cell_type": "code",
   "execution_count": null,
   "metadata": {},
   "outputs": [],
   "source": [
    "import random\n",
    "\n",
    "\n",
    "y = True\n",
    "sayac = 0\n",
    "aklimdaki_sayi = random.randint(0, 100)\n",
    "\n",
    "while y:\n",
    "    tahmin = int(input(\"1 ile 100 arasinda sayi tuttum tahmin et:\"))\n",
    "    sayac += 1\n",
    "    \n",
    "    if aklimdaki_sayi < tahmin:\n",
    "        print(f\"Girdiginiz sayi:{tahmin}. Tahmini azalt \")\n",
    "    elif aklimdaki_sayi > tahmin:\n",
    "        print(f\"Girdiginiz sayi:{tahmin}. Tahmini arttir \")\n",
    "    else:\n",
    "        print(f\"Girdiginiz sayi:{tahmin}. {sayac} kerede Dogru bildiniz. \\nTebrikler...\")\n",
    "        break  # y = False  yazarsak aynisi olut\n",
    "        \n"
   ]
  },
  {
   "cell_type": "code",
   "execution_count": 31,
   "metadata": {},
   "outputs": [
    {
     "name": "stdout",
     "output_type": "stream",
     "text": [
      "0. index nin karesi: 1\n",
      "1. index nin karesi: 9\n",
      "2. index nin karesi: 16\n",
      "3. index nin karesi: 4\n",
      "4. index nin karesi: 25\n",
      "5. index nin karesi: 49\n",
      "6. index nin karesi: 36\n"
     ]
    }
   ],
   "source": [
    "sayılar_listesi = [1, 3, 4, 2, 5, 7, 6]\n",
    "\n",
    "x = 0\n",
    "index = 0\n",
    "while x < len(sayılar_listesi):\n",
    "    \n",
    "    print(f\"{index}. index nin karesi: {sayılar_listesi[x] ** 2}\")\n",
    "    \n",
    "    index += 1\n",
    "    x +=1\n"
   ]
  },
  {
   "cell_type": "code",
   "execution_count": 40,
   "metadata": {},
   "outputs": [
    {
     "name": "stdout",
     "output_type": "stream",
     "text": [
      "[1, 9, 16, 4, 25, 49, 36]\n"
     ]
    }
   ],
   "source": [
    "sayılar_listesi = [1, 3, 4, 2, 5, 7, 6]\n",
    "\n",
    "kareler_listesi = []\n",
    "\n",
    "x = 0\n",
    "\n",
    "while x < len(sayılar_listesi):\n",
    "\n",
    "    kareler_listesi.append(sayılar_listesi[x] ** 2) # listenin icine ekledik\n",
    "\n",
    "    x += 1\n",
    "\n",
    "print(kareler_listesi)    \n",
    "    "
   ]
  },
  {
   "cell_type": "code",
   "execution_count": 42,
   "metadata": {},
   "outputs": [
    {
     "name": "stdout",
     "output_type": "stream",
     "text": [
      "2. index nin karesi: 16\n",
      "3. index nin karesi: 4\n",
      "6. index nin karesi: 36\n"
     ]
    }
   ],
   "source": [
    "sayılar_listesi = [1, 3, 4, 2, 5, 7, 6]\n",
    "\n",
    "x = 0\n",
    "index = 0\n",
    "while x < len(sayılar_listesi):\n",
    "    \n",
    "    if sayılar_listesi[x] % 2 == 0:\n",
    "     print(f\"{index}. index nin karesi: {sayılar_listesi[x] ** 2}\")\n",
    "    \n",
    "    index += 1\n",
    "    x +=1\n"
   ]
  },
  {
   "cell_type": "markdown",
   "metadata": {},
   "source": [
    "### odev "
   ]
  },
  {
   "cell_type": "markdown",
   "metadata": {},
   "source": [
    "[1,5,6,7,12,14,15,18,19,32,25] listesinin tek elemanlarının karesini, çift elemanlarının 2 katını liste halinde döndüren while döngüsünü yazın"
   ]
  },
  {
   "cell_type": "code",
   "execution_count": null,
   "metadata": {},
   "outputs": [],
   "source": []
  },
  {
   "cell_type": "code",
   "execution_count": null,
   "metadata": {},
   "outputs": [],
   "source": []
  },
  {
   "cell_type": "code",
   "execution_count": null,
   "metadata": {},
   "outputs": [],
   "source": []
  },
  {
   "cell_type": "code",
   "execution_count": null,
   "metadata": {},
   "outputs": [],
   "source": []
  },
  {
   "cell_type": "code",
   "execution_count": null,
   "metadata": {},
   "outputs": [],
   "source": []
  }
 ],
 "metadata": {
  "kernelspec": {
   "display_name": "Python 3",
   "language": "python",
   "name": "python3"
  },
  "language_info": {
   "codemirror_mode": {
    "name": "ipython",
    "version": 3
   },
   "file_extension": ".py",
   "mimetype": "text/x-python",
   "name": "python",
   "nbconvert_exporter": "python",
   "pygments_lexer": "ipython3",
   "version": "3.12.3"
  }
 },
 "nbformat": 4,
 "nbformat_minor": 2
}
